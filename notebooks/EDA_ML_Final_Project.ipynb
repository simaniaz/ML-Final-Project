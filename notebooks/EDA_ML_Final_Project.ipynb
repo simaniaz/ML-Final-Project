{
  "nbformat": 4,
  "nbformat_minor": 0,
  "metadata": {
    "colab": {
      "provenance": [],
      "authorship_tag": "ABX9TyNZPlHRnWrJ1145bznX/oop",
      "include_colab_link": true
    },
    "kernelspec": {
      "name": "python3",
      "display_name": "Python 3"
    },
    "language_info": {
      "name": "python"
    }
  },
  "cells": [
    {
      "cell_type": "markdown",
      "metadata": {
        "id": "view-in-github",
        "colab_type": "text"
      },
      "source": [
        "<a href=\"https://colab.research.google.com/github/simaniaz/ML-Final-Project/blob/main/notebooks/EDA_ML_Final_Project.ipynb\" target=\"_parent\"><img src=\"https://colab.research.google.com/assets/colab-badge.svg\" alt=\"Open In Colab\"/></a>"
      ]
    },
    {
      "cell_type": "code",
      "execution_count": 1,
      "metadata": {
        "id": "B-Cl72Lso2BY"
      },
      "outputs": [],
      "source": [
        "# Project: ML-Final-Project\n",
        "# Author: sima niaz\n",
        "# Notebook: EDA-ML-Final-Project.ipynb\n",
        "# Description: Exploratory data analysis on dataset X"
      ]
    }
  ]
}